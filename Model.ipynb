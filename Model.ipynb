{
 "cells": [
  {
   "cell_type": "code",
   "execution_count": 4,
   "metadata": {},
   "outputs": [],
   "source": [
    "import pandas as pd\n",
    "import numpy as np\n",
    "import sklearn\n",
    "from xgboost import XGBClassifier\n",
    "from sklearn.model_selection import train_test_split\n",
    "from sklearn.metrics import f1_score, classification_report\n",
    "from sklearn.model_selection import GridSearchCV\n"
   ]
  },
  {
   "cell_type": "code",
   "execution_count": 9,
   "metadata": {},
   "outputs": [
    {
     "name": "stdout",
     "output_type": "stream",
     "text": [
      "       pca1      pca2      pca3      pca4      pca5  popular\n",
      "0  0.160716  0.295636  0.459564  0.951073  1.851316        1\n",
      "1  0.062842 -1.203650  0.199620  1.041708  0.540990        1\n",
      "2  0.094486 -0.331192 -0.566934 -1.047223  0.282872        1\n",
      "3  1.032064 -0.124488  1.038847 -0.690585 -1.101940        1\n",
      "4 -0.865694 -1.005201 -0.496899  0.906127 -0.776745        1\n"
     ]
    }
   ],
   "source": [
    "df = pd.read_csv('final_after_Eda.csv')\n",
    "print(df.head())\n",
    "y = df['popular']\n",
    "X = df.drop(columns='popular')"
   ]
  },
  {
   "cell_type": "code",
   "execution_count": 12,
   "metadata": {},
   "outputs": [
    {
     "name": "stdout",
     "output_type": "stream",
     "text": [
      "       pca1      pca2      pca3      pca4      pca5\n",
      "0  0.160716  0.295636  0.459564  0.951073  1.851316\n",
      "1  0.062842 -1.203650  0.199620  1.041708  0.540990\n",
      "2  0.094486 -0.331192 -0.566934 -1.047223  0.282872\n",
      "3  1.032064 -0.124488  1.038847 -0.690585 -1.101940\n",
      "4 -0.865694 -1.005201 -0.496899  0.906127 -0.776745\n",
      "0    1\n",
      "1    1\n",
      "2    1\n",
      "3    1\n",
      "4    1\n",
      "Name: popular, dtype: int64\n"
     ]
    }
   ],
   "source": [
    "print(X.head())\n",
    "print(y.head())"
   ]
  },
  {
   "cell_type": "code",
   "execution_count": 31,
   "metadata": {},
   "outputs": [],
   "source": [
    "X_train, X_test, y_train, y_test = train_test_split(X,y,train_size=0.7, random_state=1,shuffle=True)\n"
   ]
  },
  {
   "cell_type": "code",
   "execution_count": 32,
   "metadata": {},
   "outputs": [
    {
     "name": "stdout",
     "output_type": "stream",
     "text": [
      "              precision    recall  f1-score   support\n",
      "\n",
      "           0       1.00      1.00      1.00       176\n",
      "           1       1.00      1.00      1.00       313\n",
      "\n",
      "    accuracy                           1.00       489\n",
      "   macro avg       1.00      1.00      1.00       489\n",
      "weighted avg       1.00      1.00      1.00       489\n",
      "\n",
      "100.00%\n"
     ]
    }
   ],
   "source": [
    "xg = XGBClassifier()\n",
    "xg.fit(X_train,y_train)\n",
    "\n",
    "y_pred = xg.predict(X_train)\n",
    "print(classification_report(y_true=y_train, y_pred=y_pred))\n",
    "print(f\"{f1_score(y_pred= y_pred, y_true=y_train)*100:0.2f}%\")"
   ]
  },
  {
   "cell_type": "markdown",
   "metadata": {},
   "source": [
    "The model is clearly overfitting on the training set will try to optimize hyperparameters more"
   ]
  },
  {
   "cell_type": "code",
   "execution_count": 33,
   "metadata": {},
   "outputs": [
    {
     "name": "stdout",
     "output_type": "stream",
     "text": [
      "              precision    recall  f1-score   support\n",
      "\n",
      "           0       0.31      0.24      0.27        68\n",
      "           1       0.67      0.75      0.71       142\n",
      "\n",
      "    accuracy                           0.59       210\n",
      "   macro avg       0.49      0.49      0.49       210\n",
      "weighted avg       0.56      0.59      0.57       210\n",
      "\n",
      "71.10%\n"
     ]
    }
   ],
   "source": [
    "y_pred = xg.predict(X_test)\n",
    "print(classification_report(y_true=y_test, y_pred=y_pred))\n",
    "print(f\"{f1_score(y_pred= y_pred, y_true=y_test)*100:0.2f}%\")"
   ]
  },
  {
   "cell_type": "code",
   "execution_count": 34,
   "metadata": {},
   "outputs": [
    {
     "name": "stdout",
     "output_type": "stream",
     "text": [
      "              precision    recall  f1-score   support\n",
      "\n",
      "           0       0.97      0.21      0.35       176\n",
      "           1       0.69      1.00      0.82       313\n",
      "\n",
      "    accuracy                           0.71       489\n",
      "   macro avg       0.83      0.60      0.58       489\n",
      "weighted avg       0.79      0.71      0.65       489\n",
      "\n",
      "81.68%\n"
     ]
    }
   ],
   "source": [
    "xg = XGBClassifier(learning_rate=0.01)\n",
    "xg.fit(X_train,y_train)\n",
    "\n",
    "y_pred = xg.predict(X_train)\n",
    "print(classification_report(y_true=y_train, y_pred=y_pred))\n",
    "print(f\"{f1_score(y_pred= y_pred, y_true=y_train)*100:0.2f}%\")"
   ]
  },
  {
   "cell_type": "code",
   "execution_count": 35,
   "metadata": {},
   "outputs": [
    {
     "name": "stdout",
     "output_type": "stream",
     "text": [
      "              precision    recall  f1-score   support\n",
      "\n",
      "           0       0.40      0.06      0.10        68\n",
      "           1       0.68      0.96      0.80       142\n",
      "\n",
      "    accuracy                           0.67       210\n",
      "   macro avg       0.54      0.51      0.45       210\n",
      "weighted avg       0.59      0.67      0.57       210\n",
      "\n",
      "79.53%\n"
     ]
    }
   ],
   "source": [
    "y_pred = xg.predict(X_test)\n",
    "print(classification_report(y_true=y_test, y_pred=y_pred))\n",
    "print(f\"{f1_score(y_pred= y_pred, y_true=y_test)*100:0.2f}%\")"
   ]
  },
  {
   "cell_type": "code",
   "execution_count": null,
   "metadata": {},
   "outputs": [],
   "source": []
  }
 ],
 "metadata": {
  "kernelspec": {
   "display_name": "base",
   "language": "python",
   "name": "python3"
  },
  "language_info": {
   "codemirror_mode": {
    "name": "ipython",
    "version": 3
   },
   "file_extension": ".py",
   "mimetype": "text/x-python",
   "name": "python",
   "nbconvert_exporter": "python",
   "pygments_lexer": "ipython3",
   "version": "3.10.13"
  }
 },
 "nbformat": 4,
 "nbformat_minor": 2
}
